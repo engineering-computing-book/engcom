{
 "cells": [
  {
   "cell_type": "markdown",
   "id": "fa55a739",
   "metadata": {
    "lines_to_next_cell": 0
   },
   "source": [
    "# Here Is a Top-Level Heading\n",
    "And here is some text. An equation:\n",
    "$$\n",
    "x^2 = \\int_0^t \\Phi(t-\\tau) B u(\\tau) d\\tau.\n",
    "$$\n",
    "And whatnot."
   ]
  },
  {
   "cell_type": "code",
   "execution_count": null,
   "id": "1cfce03b",
   "metadata": {
    "lines_to_next_cell": 1
   },
   "outputs": [],
   "source": [
    "import numpy as np"
   ]
  },
  {
   "cell_type": "markdown",
   "id": "21245e6c",
   "metadata": {
    "lines_to_next_cell": 0
   },
   "source": [
    "# Introduction\n",
    "This program defines several mathematical functions as vectorized\n",
    "functions that can handle NumPy array inputs."
   ]
  },
  {
   "cell_type": "markdown",
   "id": "fbb95409",
   "metadata": {
    "lines_to_next_cell": 0
   },
   "source": [
    "# $f(x) = x^2 + 3 x + 9$"
   ]
  },
  {
   "cell_type": "code",
   "execution_count": null,
   "id": "b7e19f95",
   "metadata": {},
   "outputs": [],
   "source": [
    "def f(x: np.ndarray) -> np.ndarray:\n",
    "    return x**2 + 3 * x + 9"
   ]
  },
  {
   "cell_type": "markdown",
   "id": "43ccabaf",
   "metadata": {
    "lines_to_next_cell": 0
   },
   "source": [
    "# $g(x) = 1 + \\sin^2 x$"
   ]
  },
  {
   "cell_type": "code",
   "execution_count": null,
   "id": "5e695022",
   "metadata": {},
   "outputs": [],
   "source": [
    "def g(x: np.ndarray) -> np.ndarray:\n",
    "    return 1 + np.sin(x) ** 2"
   ]
  },
  {
   "cell_type": "markdown",
   "id": "c7575a34",
   "metadata": {
    "lines_to_next_cell": 0
   },
   "source": [
    "# $h(x, y) = e^{-3 x} + \\ln y$"
   ]
  },
  {
   "cell_type": "code",
   "execution_count": null,
   "id": "d4aaf8f7",
   "metadata": {},
   "outputs": [],
   "source": [
    "def h(x: np.ndarray, y: np.ndarray) -> np.ndarray:\n",
    "    return np.exp(-3 * x) + np.log(y)"
   ]
  },
  {
   "cell_type": "markdown",
   "id": "8a58e27d",
   "metadata": {
    "lines_to_next_cell": 0
   },
   "source": [
    "# $F(x, y) = \\left\\lfloor x/y \\right\\rfloor$"
   ]
  },
  {
   "cell_type": "code",
   "execution_count": null,
   "id": "c0047c4e",
   "metadata": {},
   "outputs": [],
   "source": [
    "def F(x: np.ndarray, y: np.ndarray) -> np.ndarray:\n",
    "    return np.floor(x / y)"
   ]
  },
  {
   "cell_type": "markdown",
   "id": "b22e9482",
   "metadata": {
    "lines_to_next_cell": 0
   },
   "source": [
    "# $G(x, y) = \\begin{cases} x^2 + y^2 & \\text{if $x > y$} \\\\ 2 x & \\text{otherwise} \\end{cases}$"
   ]
  },
  {
   "cell_type": "code",
   "execution_count": null,
   "id": "a7d48377",
   "metadata": {},
   "outputs": [],
   "source": [
    "def G(x: np.ndarray, y: np.ndarray) -> np.ndarray:\n",
    "    return np.where(x > y, x**2 + y**2, 2 * x)"
   ]
  },
  {
   "cell_type": "markdown",
   "id": "27a67873",
   "metadata": {
    "lines_to_next_cell": 0
   },
   "source": [
    "# Call Functions and Print"
   ]
  },
  {
   "cell_type": "code",
   "execution_count": null,
   "id": "99f61352",
   "metadata": {
    "lines_to_next_cell": 2
   },
   "outputs": [],
   "source": [
    "functions_args = (\n",
    "    (f, 1),\n",
    "    (g, 1),\n",
    "    (h, 2),\n",
    "    (F, 2),\n",
    "    (G, 2),\n",
    ")  # (fun, nargs)\n",
    "x = np.array([1, 5, 10, 20, 30])\n",
    "y = np.array([2, 7, 5, 10, 30])\n",
    "print(f\"x = {x}\\ny = {y}\")\n",
    "\n",
    "for function_args in functions_args:\n",
    "    if function_args[1] == 1:\n",
    "        printable = np.array2string(function_args[0](x), precision=3)\n",
    "        print(f\"{function_args[0].__name__}(x) =\", printable)\n",
    "    elif function_args[1] == 2:\n",
    "        printable = np.array2string(function_args[0](x, y), precision=3)\n",
    "        print(f\"{function_args[0].__name__}(x, y) =\", printable)"
   ]
  },
  {
   "cell_type": "raw",
   "id": "0c22cff2",
   "metadata": {
    "tags": [
     "active-py"
    ]
   },
   "source": [
    "import sys\n",
    "\n",
    "sys.path.append(\"../\")\n",
    "import engcom\n",
    "\n",
    "pub = engcom.Publication(title=\"Problem YE\", author=\"Rico Picone\")\n",
    "pub.write(to=\"pdf\")"
   ]
  }
 ],
 "metadata": {
  "jupytext": {
   "cell_metadata_filter": "tags,-all",
   "main_language": "python",
   "notebook_metadata_filter": "-all"
  }
 },
 "nbformat": 4,
 "nbformat_minor": 5
}
