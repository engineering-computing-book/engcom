{
 "cells": [
  {
   "cell_type": "markdown",
   "id": "fa55a739",
   "metadata": {
    "lines_to_next_cell": 0
   },
   "source": [
    "# Here Is a Top-Level Heading\n",
    "And here is some text. An equation:\n",
    "$$\n",
    "x^2 = \\int_0^t \\Phi(t-\\tau) B u(\\tau) d\\tau.\n",
    "$$\n",
    "And whatnot."
   ]
  },
  {
   "cell_type": "code",
   "execution_count": 1,
   "id": "1cfce03b",
   "metadata": {
    "execution": {
     "iopub.execute_input": "2024-03-07T01:20:53.007101Z",
     "iopub.status.busy": "2024-03-07T01:20:53.007002Z",
     "iopub.status.idle": "2024-03-07T01:20:53.154678Z",
     "shell.execute_reply": "2024-03-07T01:20:53.153774Z"
    },
    "lines_to_next_cell": 1
   },
   "outputs": [],
   "source": [
    "import numpy as np"
   ]
  },
  {
   "cell_type": "markdown",
   "id": "21245e6c",
   "metadata": {
    "lines_to_next_cell": 0
   },
   "source": [
    "# Introduction\n",
    "This program defines several mathematical functions as vectorized\n",
    "functions that can handle NumPy array inputs."
   ]
  },
  {
   "cell_type": "markdown",
   "id": "fbb95409",
   "metadata": {
    "lines_to_next_cell": 0
   },
   "source": [
    "# $f(x) = x^2 + 3 x + 9$"
   ]
  },
  {
   "cell_type": "code",
   "execution_count": 2,
   "id": "b7e19f95",
   "metadata": {
    "execution": {
     "iopub.execute_input": "2024-03-07T01:20:53.160151Z",
     "iopub.status.busy": "2024-03-07T01:20:53.159963Z",
     "iopub.status.idle": "2024-03-07T01:20:53.165744Z",
     "shell.execute_reply": "2024-03-07T01:20:53.163140Z"
    }
   },
   "outputs": [],
   "source": [
    "def f(x: np.ndarray) -> np.ndarray:\n",
    "    return x**2 + 3 * x + 9"
   ]
  },
  {
   "cell_type": "markdown",
   "id": "43ccabaf",
   "metadata": {
    "lines_to_next_cell": 0
   },
   "source": [
    "# $g(x) = 1 + \\sin^2 x$"
   ]
  },
  {
   "cell_type": "code",
   "execution_count": 3,
   "id": "5e695022",
   "metadata": {
    "execution": {
     "iopub.execute_input": "2024-03-07T01:20:53.172678Z",
     "iopub.status.busy": "2024-03-07T01:20:53.172541Z",
     "iopub.status.idle": "2024-03-07T01:20:53.178000Z",
     "shell.execute_reply": "2024-03-07T01:20:53.177216Z"
    }
   },
   "outputs": [],
   "source": [
    "def g(x: np.ndarray) -> np.ndarray:\n",
    "    return 1 + np.sin(x) ** 2"
   ]
  },
  {
   "cell_type": "markdown",
   "id": "c7575a34",
   "metadata": {
    "lines_to_next_cell": 0
   },
   "source": [
    "# $h(x, y) = e^{-3 x} + \\ln y$"
   ]
  },
  {
   "cell_type": "code",
   "execution_count": 4,
   "id": "d4aaf8f7",
   "metadata": {
    "execution": {
     "iopub.execute_input": "2024-03-07T01:20:53.183105Z",
     "iopub.status.busy": "2024-03-07T01:20:53.182967Z",
     "iopub.status.idle": "2024-03-07T01:20:53.187448Z",
     "shell.execute_reply": "2024-03-07T01:20:53.186376Z"
    }
   },
   "outputs": [],
   "source": [
    "def h(x: np.ndarray, y: np.ndarray) -> np.ndarray:\n",
    "    return np.exp(-3 * x) + np.log(y)"
   ]
  },
  {
   "cell_type": "markdown",
   "id": "8a58e27d",
   "metadata": {
    "lines_to_next_cell": 0
   },
   "source": [
    "# $F(x, y) = \\left\\lfloor x/y \\right\\rfloor$"
   ]
  },
  {
   "cell_type": "code",
   "execution_count": 5,
   "id": "c0047c4e",
   "metadata": {
    "execution": {
     "iopub.execute_input": "2024-03-07T01:20:53.192059Z",
     "iopub.status.busy": "2024-03-07T01:20:53.191683Z",
     "iopub.status.idle": "2024-03-07T01:20:53.198162Z",
     "shell.execute_reply": "2024-03-07T01:20:53.197066Z"
    }
   },
   "outputs": [],
   "source": [
    "def F(x: np.ndarray, y: np.ndarray) -> np.ndarray:\n",
    "    return np.floor(x / y)"
   ]
  },
  {
   "cell_type": "markdown",
   "id": "b22e9482",
   "metadata": {
    "lines_to_next_cell": 0
   },
   "source": [
    "# $G(x, y) = \\begin{cases} x^2 + y^2 & \\text{if $x > y$} \\\\ 2 x & \\text{otherwise} \\end{cases}$"
   ]
  },
  {
   "cell_type": "code",
   "execution_count": 6,
   "id": "a7d48377",
   "metadata": {
    "execution": {
     "iopub.execute_input": "2024-03-07T01:20:53.203754Z",
     "iopub.status.busy": "2024-03-07T01:20:53.203370Z",
     "iopub.status.idle": "2024-03-07T01:20:53.206660Z",
     "shell.execute_reply": "2024-03-07T01:20:53.205956Z"
    }
   },
   "outputs": [],
   "source": [
    "def G(x: np.ndarray, y: np.ndarray) -> np.ndarray:\n",
    "    return np.where(x > y, x**2 + y**2, 2 * x)"
   ]
  },
  {
   "cell_type": "markdown",
   "id": "27a67873",
   "metadata": {
    "lines_to_next_cell": 0
   },
   "source": [
    "# Call Functions and Print"
   ]
  },
  {
   "cell_type": "code",
   "execution_count": 7,
   "id": "99f61352",
   "metadata": {
    "execution": {
     "iopub.execute_input": "2024-03-07T01:20:53.210342Z",
     "iopub.status.busy": "2024-03-07T01:20:53.210173Z",
     "iopub.status.idle": "2024-03-07T01:20:53.214237Z",
     "shell.execute_reply": "2024-03-07T01:20:53.213918Z"
    },
    "lines_to_next_cell": 2
   },
   "outputs": [
    {
     "name": "stdout",
     "output_type": "stream",
     "text": [
      "x = [ 1  5 10 20 30]\n",
      "y = [ 2  7  5 10 30]\n",
      "f(x) = [ 13  49 139 469 999]\n",
      "g(x) = [1.708 1.92  1.296 1.833 1.976]\n",
      "h(x, y) = [0.743 1.946 1.609 2.303 3.401]\n",
      "F(x, y) = [0. 0. 2. 2. 1.]\n",
      "G(x, y) = [  2  10 125 500  60]\n"
     ]
    }
   ],
   "source": [
    "functions_args = (\n",
    "    (f, 1),\n",
    "    (g, 1),\n",
    "    (h, 2),\n",
    "    (F, 2),\n",
    "    (G, 2),\n",
    ")  # (fun, nargs)\n",
    "x = np.array([1, 5, 10, 20, 30])\n",
    "y = np.array([2, 7, 5, 10, 30])\n",
    "print(f\"x = {x}\\ny = {y}\")\n",
    "\n",
    "for function_args in functions_args:\n",
    "    if function_args[1] == 1:\n",
    "        printable = np.array2string(function_args[0](x), precision=3)\n",
    "        print(f\"{function_args[0].__name__}(x) =\", printable)\n",
    "    elif function_args[1] == 2:\n",
    "        printable = np.array2string(function_args[0](x, y), precision=3)\n",
    "        print(f\"{function_args[0].__name__}(x, y) =\", printable)"
   ]
  },
  {
   "cell_type": "raw",
   "id": "0c22cff2",
   "metadata": {
    "tags": [
     "active-py"
    ]
   },
   "source": [
    "import sys\n",
    "\n",
    "sys.path.append(\"../\")\n",
    "import engcom\n",
    "\n",
    "pub = engcom.Publication(title=\"Problem YE\", author=\"Rico Picone\")\n",
    "pub.write(to=\"pdf\")"
   ]
  }
 ],
 "metadata": {
  "jupytext": {
   "cell_metadata_filter": "tags,-all",
   "main_language": "python",
   "notebook_metadata_filter": "-all"
  },
  "language_info": {
   "codemirror_mode": {
    "name": "ipython",
    "version": 3
   },
   "file_extension": ".py",
   "mimetype": "text/x-python",
   "name": "python",
   "nbconvert_exporter": "python",
   "pygments_lexer": "ipython3",
   "version": "3.12.1"
  }
 },
 "nbformat": 4,
 "nbformat_minor": 5
}
